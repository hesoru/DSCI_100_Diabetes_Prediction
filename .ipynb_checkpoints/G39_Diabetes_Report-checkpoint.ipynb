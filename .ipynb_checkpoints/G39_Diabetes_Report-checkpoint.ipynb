{
 "cells": [
  {
   "cell_type": "markdown",
   "id": "4a44fdfd-4cdc-44ae-bd8c-a55c0ef2f8c8",
   "metadata": {},
   "source": [
    "# Project Report - Group 39\n",
    "## Diabetes classifier"
   ]
  },
  {
   "cell_type": "code",
   "execution_count": null,
   "id": "5cf64abc-5cd7-40cb-bf73-ec57a73b1578",
   "metadata": {},
   "outputs": [],
   "source": []
  }
 ],
 "metadata": {
  "kernelspec": {
   "display_name": "R",
   "language": "R",
   "name": "ir"
  },
  "language_info": {
   "codemirror_mode": "r",
   "file_extension": ".r",
   "mimetype": "text/x-r-source",
   "name": "R",
   "pygments_lexer": "r",
   "version": "4.2.2"
  }
 },
 "nbformat": 4,
 "nbformat_minor": 5
}
