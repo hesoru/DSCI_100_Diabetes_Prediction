{
 "cells": [
  {
   "cell_type": "markdown",
   "id": "db69f723-df9c-44fd-9c61-1e382a620bde",
   "metadata": {},
   "source": [
    "# Classification: Predicting Diabetes Based on Modifiable Factors"
   ]
  },
  {
   "cell_type": "markdown",
   "id": "ab9d613b-5f56-4fc1-817b-958b416d3103",
   "metadata": {},
   "source": [
    "(max 2000 written words, not including citations)"
   ]
  },
  {
   "cell_type": "markdown",
   "id": "28e9f481-6ad7-414d-9339-4bf3c26b88ca",
   "metadata": {},
   "source": [
    "# Introduction"
   ]
  },
  {
   "cell_type": "markdown",
   "id": "eadce434-0025-4abe-98a4-a5fe23d82c48",
   "metadata": {},
   "source": [
    "- provide some relevant background information on the topic so that someone unfamiliar with it will be prepared to understand the rest of your report\n",
    "- clearly state the question you tried to answer with your project\n",
    "- identify and describe the dataset that was used to answer the question\n",
    "\n",
    "**Research question:**\n",
    "Can the 5 following modifiable/reversible factors predict the onset of diabetes within 5 years with a high degree of accuracy (>75%)?\n",
    "1. Plasma glucose concentration level at 2 hours in an oral glucose tolerance test (ie. glucose test, mg/dl)\n",
    "2. Diastolic blood pressure (mmHg)\n",
    "3. Triceps skin fold thickness - a measure of body fat (mm)\n",
    "4. 2-Hour serum insulin (µU/mL)\n",
    "5. Body mass index (kg/m^2)"
   ]
  },
  {
   "cell_type": "markdown",
   "id": "f179db34-1adb-4883-a659-af6756c06ec3",
   "metadata": {},
   "source": [
    "# Methods"
   ]
  },
  {
   "cell_type": "markdown",
   "id": "bdfccf52-664b-46f2-ae95-35de327ec149",
   "metadata": {},
   "source": [
    "- describe in written English the methods you used to perform your analysis from beginning to end that narrates the code the does the analysis."
   ]
  },
  {
   "cell_type": "markdown",
   "id": "f6862ea7-b14a-4d65-b2ee-861e6dd578d6",
   "metadata": {},
   "source": [
    "# Analysis"
   ]
  },
  {
   "cell_type": "markdown",
   "id": "c86073df-6499-4bdb-82b3-f12b7c67345f",
   "metadata": {},
   "source": [
    "- loads data from the original source on the web \n",
    "- wrangles and cleans the data from it's original (downloaded) format to the format necessary for the planned analysis\n",
    "- performs the data analysis"
   ]
  },
  {
   "cell_type": "markdown",
   "id": "37e2645e-e1c8-4d94-90fb-c97e43d135cd",
   "metadata": {},
   "source": [
    "# Results"
   ]
  },
  {
   "cell_type": "markdown",
   "id": "2b07d34e-d3f6-4a79-83d9-634d2ccb118c",
   "metadata": {},
   "source": [
    "- performs a summary of the data set that is relevant for exploratory data analysis related to the planned analysis \n",
    "- creates a visualization of the dataset that is relevant for exploratory data analysis related to the planned analysis\n",
    "- creates a visualization of the analysis \n",
    "- note: all tables and figure should have a figure/table number and a legend"
   ]
  },
  {
   "cell_type": "markdown",
   "id": "d94ae2a1-824b-47f9-810d-5a60a6abb31c",
   "metadata": {},
   "source": [
    "# Discussion"
   ]
  },
  {
   "cell_type": "markdown",
   "id": "9749ee79-4404-4b22-85d8-e8545c338ee0",
   "metadata": {},
   "source": [
    "- summarize what you found\n",
    "- discuss whether this is what you expected to find?\n",
    "- discuss what impact could such findings have?\n",
    "- discuss what future questions could this lead to?"
   ]
  },
  {
   "cell_type": "markdown",
   "id": "f485c109-6b11-4e5c-b14a-d975630e4c81",
   "metadata": {},
   "source": [
    "# References"
   ]
  },
  {
   "cell_type": "markdown",
   "id": "1cb2f6dc-ed75-46c9-8801-ef0ac3bf7b0b",
   "metadata": {},
   "source": [
    "(APA style)"
   ]
  },
  {
   "cell_type": "markdown",
   "id": "b5c431cc-368b-4d37-93c9-0a6513b5ecea",
   "metadata": {},
   "source": [
    "- At least 2 citations of literature relevant to the project (format is your choice, just be consistent across the references).\n",
    "- Make sure to cite the source of your data as well."
   ]
  }
 ],
 "metadata": {
  "kernelspec": {
   "display_name": "R",
   "language": "R",
   "name": "ir"
  },
  "language_info": {
   "codemirror_mode": "r",
   "file_extension": ".r",
   "mimetype": "text/x-r-source",
   "name": "R",
   "pygments_lexer": "r",
   "version": "4.2.2"
  }
 },
 "nbformat": 4,
 "nbformat_minor": 5
}
