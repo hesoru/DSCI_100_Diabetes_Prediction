{
 "cells": [
  {
   "cell_type": "markdown",
   "id": "ef0dc5d7-5f7d-442e-844c-bebb3e9af3f5",
   "metadata": {
    "tags": []
   },
   "source": [
    "# Project Proposal: Building a Classifier to Predict Diabetes"
   ]
  },
  {
   "cell_type": "markdown",
   "id": "e87a6ecf-49e3-4c9d-8417-48377e79642f",
   "metadata": {},
   "source": [
    "## 1. Introduction"
   ]
  },
  {
   "cell_type": "markdown",
   "id": "232188e2-825e-4d0e-8ed8-5a7c0e9b0d9e",
   "metadata": {},
   "source": [
    "Our project investigates potential key factors associated with diabetes mellitus in females of Pima Indian decent aged 21 and above. Diabetes mellitus is a serious disease affecting many populations causing severe health complications such as heart failure, with the main associated cause of death being coronary heart disease (Das, 2014). Those of Indian decent often have higher rates of diabetes suggesting a potential genetic predisposition to insulin resistance, however many other factors can play a role in the presence of diabetes. There are many known risk factors associated with this disorder, some of which include parental diabetes, obesity, and genetic components (Das, 2014). High rates of diabetes mellitus is not only a severe health issue, but it also places a significant strain on the healthcare system (Krishnamoorthy et al., 2022). Throughout our project we aim to answer the question of whether the 5 factors we have selected can accurately predict the onset of diabetes within a five year time frame with a high degree of over 75%. The original data set consisted of 9 different attributes, however we have chosen to narrow our scope to focus on the five factors most associated with potential modifiable or reversible qualities. The observations we will be examining throughout our project include plasma glucose concentration level at 2 hours in an oral glucose tolerance test (ie. glucose test, mg/dl), diastolic blood pressure (mmHg), triceps skin fold thickness (a measure of body fat (mm)), hour serum insulin (µU/mL), and body mass index (kg/m^2). The data set we have chosen is titled “Diabetes Dataset” created from the findings of the National Institute of Diabetes and Digestive and Kidney Diseases which was uploaded by Mehmet Akturk found on Kaggle."
   ]
  },
  {
   "cell_type": "markdown",
   "id": "743e4a8f-f9c6-43e8-b9f7-44a8546e99dd",
   "metadata": {},
   "source": [
    "## 2. Preliminary Analysis"
   ]
  },
  {
   "cell_type": "markdown",
   "id": "2cbfa7c3-0bdb-4d0a-9d6d-cfeb0cc45931",
   "metadata": {},
   "source": [
    "Our GitHub repository can be found at: https://github.com/hesoru/DSCI_100_Diabetes_Prediction\n",
    "\n",
    "### Dataset Source\n",
    "\n",
    "Our dataset was obtained from Kaggle at the following URL: \n",
    "\n",
    "https://www.kaggle.com/datasets/mathchi/diabetes-data-set?fbclid=IwAR1DMzdJFDxoEqLDIZNTi3j7YJXTx_7BJwCl7sbn8syQKbQCnHfMtlsKH1E\n",
    "\n",
    "This dataset was uploaded by user Mehmet Akturk and was sourced from the National Institute of Diabetes and Digestive and Kidney Diseases (donated by RMI Group Leader Vincent Sigillito).\n",
    "\n",
    "The study population consisted of 768 female patients of at least 21 years of age and Pima Indian heritage, living near Phoenix, Arizona, USA. Researchers collected the following data:\n",
    " 1. Number of times pregnant\n",
    " 2. Plasma glucose concentration level at 2 hours in an oral glucose tolerance test (ie. glucose test, mg/dl)\n",
    " 3. Diastolic blood pressure (mmHg)\n",
    " 4. Triceps skin fold thickness - a measure of body fat (mm)\n",
    " 5. 2-Hour serum insulin (µU/mL)\n",
    " 6. Body mass index (kg/m^2)\n",
    " 7. Diabetes pedigree function (probability of diabetes based on family history) \n",
    " 8. Age\n",
    " 9. Outcome (0 = glucose test negative for diabetes 5+ years after data collection, 1 = glucose test positive for diabetes within 5 years of data collection)\n",
    "\n",
    "Diabetes was diagnosed by a plasma glucose concentration level greater than 200 mg/dl at 2 hours in an oral glucose tolerance test. All patients had a negative glucose test for diabetes at initial data collection. "
   ]
  },
  {
   "cell_type": "code",
   "execution_count": null,
   "id": "3487a7e1-01a4-4666-81b5-2d9196dd8fcb",
   "metadata": {
    "tags": []
   },
   "outputs": [
    {
     "name": "stderr",
     "output_type": "stream",
     "text": [
      "also installing the dependencies ‘broom’, ‘conflicted’, ‘forcats’, ‘lubridate’, ‘ragg’, ‘readr’, ‘readxl’\n",
      "\n",
      "\n",
      "Updating HTML index of packages in '.Library'\n",
      "\n",
      "Making 'packages.html' ...\n",
      " done\n",
      "\n",
      "also installing the dependencies ‘vctrs’, ‘dials’, ‘dplyr’, ‘ggplot2’, ‘hardhat’, ‘modeldata’, ‘parsnip’, ‘purrr’, ‘recipes’, ‘rlang’, ‘rsample’, ‘rstudioapi’, ‘tune’, ‘workflows’, ‘workflowsets’, ‘yardstick’\n",
      "\n",
      "\n"
     ]
    }
   ],
   "source": [
    "# This code cell is for installation only, start from below if not needed\n",
    "install.packages(\"tidyverse\")\n",
    "install.packages(\"tidymodels\")\n",
    "install.packages(\"gridExtra\")"
   ]
  },
  {
   "cell_type": "code",
   "execution_count": null,
   "id": "cb4a4f97-72c6-4ce1-8c34-6dd773078b16",
   "metadata": {
    "tags": []
   },
   "outputs": [],
   "source": [
    "set.seed(1000)\n",
    "library(\"tidyverse\")\n",
    "library(\"tidymodels\")\n",
    "library(\"gridExtra\")"
   ]
  },
  {
   "cell_type": "markdown",
   "id": "43a070d1-5fe3-46d9-853c-1e3886b14912",
   "metadata": {},
   "source": [
    "### Tidying and Filtering Data"
   ]
  },
  {
   "cell_type": "code",
   "execution_count": null,
   "id": "bd493c36-48d9-4451-b89d-9798e06c112d",
   "metadata": {
    "tags": []
   },
   "outputs": [],
   "source": [
    "diabetes_dataset <- read_csv(\"https://raw.githubusercontent.com/hesoru/DSCI_100_Diabetes_Prediction/main/Dataset/diabetes.csv\")\n",
    "diabetes_dataset"
   ]
  },
  {
   "cell_type": "markdown",
   "id": "c3e36d61-70c4-4e59-9e74-6bef30278008",
   "metadata": {},
   "source": [
    "To narrow down parameters for classification, we will only be using modifiable/reversible variables in analysis. These include:\n",
    "\n",
    "1. Plasma glucose concentration level at 2 hours in an oral glucose tolerance test (ie. glucose test, mg/dl)\n",
    "2. Diastolic blood pressure (mmHg)\n",
    "3. Triceps skin fold thickness - a measure of body fat (mm)\n",
    "4. 2-Hour serum insulin (µU/mL)\n",
    "5. Body mass index (kg/m^2)\n",
    "\n",
    "We will remove irreversible or non-modifiable variables: pregnancies (not a reversible variable), diabetes pedigree function (probability of diabetes based on family history, not modifiable), and age.\n",
    "\n",
    "The dataset have no N/A values, however some cells have value equal to 0.\n",
    "\n",
    "In particular, glucose, blood pressure, skin thickness, insulin, BMI should not have reading of 0 in practice. Cells with value of 0 in these columns will be treated as N/A and filtered."
   ]
  },
  {
   "cell_type": "code",
   "execution_count": null,
   "id": "4daa1ee7-6c5a-4765-91e9-1fcf2765a121",
   "metadata": {
    "tags": []
   },
   "outputs": [],
   "source": [
    "diabetes_dataset_filtered <- diabetes_dataset |>\n",
    "    select(-Pregnancies, -DiabetesPedigreeFunction, -Age) |>\n",
    "    filter(Glucose != 0, BloodPressure != 0, SkinThickness != 0, Insulin != 0, BMI != 0)\n",
    "diabetes_dataset_filtered"
   ]
  },
  {
   "cell_type": "markdown",
   "id": "a9d5f13f-e7f5-4609-99e4-a14c19025357",
   "metadata": {},
   "source": [
    "### Split Clinical Data into Training and Testing Sets"
   ]
  },
  {
   "cell_type": "code",
   "execution_count": null,
   "id": "756366aa-88ca-41e0-a6a3-0c449e08465a",
   "metadata": {
    "tags": []
   },
   "outputs": [],
   "source": [
    "diabetes_dataset_filtered_split <- initial_split(data = diabetes_dataset_filtered, prop = 0.75, strata = Outcome)\n",
    "diabetes_dataset_filtered_training <- training(diabetes_dataset_filtered_split)\n",
    "diabetes_dataset_filtered_testing <- testing(diabetes_dataset_filtered_split)\n",
    "\n",
    "diabetes_dataset_filtered_training\n",
    "diabetes_dataset_filtered_testing"
   ]
  },
  {
   "cell_type": "markdown",
   "id": "4586ee1e-754d-4692-920a-71e62fc4363d",
   "metadata": {},
   "source": [
    "### Exploration of Training Data"
   ]
  },
  {
   "cell_type": "code",
   "execution_count": null,
   "id": "f8572578-c9f5-409d-adda-cf8c58942a47",
   "metadata": {
    "tags": []
   },
   "outputs": [],
   "source": [
    "patient_means_by_outcome <- diabetes_dataset_filtered_training |>\n",
    "    group_by(Outcome) |>\n",
    "    summarise(Patients = n(),\n",
    "              Mean_Glucose = mean(Glucose),\n",
    "              Mean_BP = mean(BloodPressure),\n",
    "              Mean_SkinThickness = mean(SkinThickness),\n",
    "              Mean_Insulin = mean(Insulin),\n",
    "              Mean_BMI = mean(BMI))\n",
    "patient_means_by_outcome"
   ]
  },
  {
   "cell_type": "markdown",
   "id": "a8bdac23-3d62-4416-8641-75275f26f67d",
   "metadata": {},
   "source": [
    "- 0 = negative glucose test for diabetes 5 years after data collection\n",
    "- 1 = positive glucose test for diabetes within 5 years of data collection\n",
    "\n",
    "**Interpretation:**\n",
    "- 97/293 patients received a positive glucose test for diabetes (1) within 5 years of data collection. This implies a startling rate of diabetes development, however it is possible that some patients were already diabetic at data collection (false negatives).\n",
    "- There is a large relative difference (at least 25%) in Mean_Glucose and Mean_Insulin between pre-diabetics and non-diabetics."
   ]
  },
  {
   "cell_type": "code",
   "execution_count": null,
   "id": "5a15ac64-b92d-4d93-b5ff-1d9f4641014f",
   "metadata": {
    "tags": []
   },
   "outputs": [],
   "source": [
    "patient_distribution_glucose <- diabetes_dataset_filtered_training |>\n",
    "    ggplot(aes(x = Glucose)) +\n",
    "    geom_histogram(bins = 10, binwidth = 5) +\n",
    "    labs(x = \"GTT: Glucose Plasma Concentration (mg/dl)\",\n",
    "         y = \"Number of Patients\") +\n",
    "    theme(text = element_text(size = 11)) +\n",
    "    theme(legend.position = \"none\")\n",
    "\n",
    "patient_distribution_BP <- diabetes_dataset_filtered_training |>\n",
    "    ggplot(aes(x = BloodPressure)) +\n",
    "    geom_histogram(bins = 10, binwidth = 4) +\n",
    "    labs(x = \"Diastolic Blood Pressure (mmHg)\",\n",
    "         y = \"Number of Patients\") +\n",
    "    theme(text = element_text(size = 11)) +\n",
    "    theme(legend.position = \"none\")\n",
    "\n",
    "patient_distribution_SkinThickness <- diabetes_dataset_filtered_training |>\n",
    "    ggplot(aes(x = SkinThickness)) +\n",
    "    geom_histogram(bins = 10, binwidth = 2) +\n",
    "    labs(x = \"Tricep Skin Thickness (mm)\",\n",
    "         y = \"Number of Patients\") +\n",
    "    theme(text = element_text(size = 11)) +\n",
    "    theme(legend.position = \"none\")\n",
    "\n",
    "patient_distribution_Insulin <- diabetes_dataset_filtered_training |>\n",
    "    ggplot(aes(x = Insulin)) +\n",
    "    geom_histogram(bins = 10, binwidth = 25) +\n",
    "    labs(x = \"2-Hour Serum Insulin (µU/mL)\",\n",
    "         y = \"Number of Patients\") +\n",
    "    theme(text = element_text(size = 11)) +\n",
    "    theme(legend.position = \"none\")\n",
    "\n",
    "patient_distribution_BMI <- diabetes_dataset_filtered_training |>\n",
    "    ggplot(aes(x = BMI)) +\n",
    "    geom_histogram(bins = 10, binwidth = 2) +\n",
    "    labs(x = \"Body Mass Index (kg/m^2)\",\n",
    "         y = \"Number of Patients\") +\n",
    "    theme(text = element_text(size = 11)) +\n",
    "    theme(legend.position = \"none\")"
   ]
  },
  {
   "cell_type": "code",
   "execution_count": null,
   "id": "5dbd77a8-ad27-4832-be95-63b404ae0a3b",
   "metadata": {
    "tags": []
   },
   "outputs": [],
   "source": [
    "grid.arrange(patient_distribution_glucose,\n",
    "             patient_distribution_BP,\n",
    "             patient_distribution_SkinThickness,\n",
    "             patient_distribution_Insulin,\n",
    "             patient_distribution_BMI,\n",
    "             ncol=2)"
   ]
  },
  {
   "cell_type": "code",
   "execution_count": null,
   "id": "b75bc6db-4319-4129-a46b-b67823f9d528",
   "metadata": {
    "tags": []
   },
   "outputs": [],
   "source": []
  },
  {
   "cell_type": "markdown",
   "id": "6caa7ab7-885b-498a-b625-0893530a4f19",
   "metadata": {},
   "source": [
    "# 3. Methods\n",
    "\n",
    "We will perform K nearest neighbors classification on our testing dataset (25% of our entire dataset):\n",
    "\n",
    "**Parameters:**\n",
    "1. Plasma glucose concentration level at 2 hours in an oral glucose tolerance test (ie. glucose test, mg/dl)\n",
    "2. Diastolic blood pressure (mmHg)\n",
    "3. Triceps skin fold thickness - a measure of body fat (mm)\n",
    "4. 2-Hour serum insulin (µU/mL)\n",
    "5. Body mass index (kg/m^2)\n",
    "\n",
    "**Predicted class:** Outcome (whether the patient will receive a positive glucose test for diabetes in the next 5 years).\n",
    "\n",
    "\n",
    "Our classifier will be trained on our training data (75% of our entire dataset). We will tune K using our training dataset and assess classifier accuracy, precision, and recall by comparing classifier outcome predictions to actual outcome in the testing dataset.\n",
    "\n",
    "\n",
    "We aim to create the following visualizations:\n",
    "- Bar plot with outcome on the x-axis, and sample counts under each outcome (0 and 1) based on the classifier vs. actual observations on the y-axis\n",
    "- Estimated accuracy of classifier on the y-axis and neighbors on the x-axis (tuning K)\n",
    "- Since we're using 5 parameters for our classifier, it's not practical to plot the training/testing data on a scatterplot including all the parameters (5 axes!)"
   ]
  },
  {
   "cell_type": "markdown",
   "id": "4f984b72-d8d5-4c49-96f9-634a032bd25b",
   "metadata": {},
   "source": [
    "# 4. Expected Outcomes and Significance\n"
   ]
  },
  {
   "cell_type": "markdown",
   "id": "9c801cce-d7c6-492d-b2e8-9bd80e4bc4ef",
   "metadata": {},
   "source": [
    "We start with an initial assumption that prediction of diabetes 5 years prior to being positively tested for it based on clinical data is feasible, thus we expect that our dataset which covers a portion of commonly used clinical data can be used to train a predictor (classifier).\n",
    "\n",
    "Since predicting a disease that is not currently curable like diabetes can be very valuable to potential patients, it will be a case which a type 1 error is more acceptable than a type 2 error. Although we have no specific expectation on the accuracy of our predictor, we expect to reduce type 2 error while maximizing its accuracy.\n",
    "\n",
    "As stated earlier, creating prediction algorithms and identifying effective predictors in the process can be very helpful as they provides potential patients valuable time to take caution before some irreversible point, these knowledge also narrows direction for further inspections such as clarifying the causality among predictors and between predictors and diabetes."
   ]
  }
 ],
 "metadata": {
  "kernelspec": {
   "display_name": "R",
   "language": "R",
   "name": "ir"
  },
  "language_info": {
   "codemirror_mode": "r",
   "file_extension": ".r",
   "mimetype": "text/x-r-source",
   "name": "R",
   "pygments_lexer": "r",
   "version": "4.2.2"
  }
 },
 "nbformat": 4,
 "nbformat_minor": 5
}
